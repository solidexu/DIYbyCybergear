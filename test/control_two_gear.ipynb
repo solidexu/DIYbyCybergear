{
 "cells": [
  {
   "cell_type": "code",
   "execution_count": 63,
   "id": "d224ba8a",
   "metadata": {},
   "outputs": [],
   "source": [
    "import serial\n",
    "import struct\n",
    "import time\n"
   ]
  },
  {
   "cell_type": "markdown",
   "id": "a60c6a4c",
   "metadata": {},
   "source": [
    "## 正反转各1秒"
   ]
  },
  {
   "cell_type": "code",
   "execution_count": 49,
   "id": "3ec480e4",
   "metadata": {},
   "outputs": [],
   "source": [
    "ser = serial.Serial('COM8', 921600, timeout=1)\n",
    "try:\n",
    "    # Enter \"AT command mode\"\n",
    "    ser.write(bytes.fromhex('41 54 2b 41 54 0d 0a'))\n",
    "    \n",
    "    # Rotate the motor forward for 1 second\n",
    "    ser.write(bytes.fromhex('41 54 90 07 e8 0c 08 05 70 00 00 07 01 95 54 0d 0a'))\n",
    "    time.sleep(1)\n",
    "    \n",
    "    # Stop the motor for 1 second\n",
    "    ser.write(bytes.fromhex('41 54 90 07 e8 0c 08 05 70 00 00 07 00 7f ff 0d 0a'))\n",
    "    time.sleep(1)\n",
    "    \n",
    "    # Stop the motor for 1 second\n",
    "    ser.write(bytes.fromhex('41 54 90 07 e8 14 08 05 70 00 00 07 01 95 54 0d 0a'))\n",
    "    time.sleep(1)\n",
    "    \n",
    "    # Rotate the motor forward for 1 second\n",
    "    ser.write(bytes.fromhex('41 54 90 07 e8 14 08 05 70 00 00 07 00 7f ff 0d 0a'))\n",
    "    time.sleep(1)\n",
    "    \n",
    "    # Rotate the motor backward for 1 second\n",
    "    ser.write(bytes.fromhex('41 54 90 07 e8 0c 08 05 70 00 00 07 01 6a aa 0d 0a'))\n",
    "    time.sleep(1)\n",
    "    \n",
    "    # Stop the motor for 1 second\n",
    "    ser.write(bytes.fromhex('41 54 90 07 e8 0c 08 05 70 00 00 07 00 7f ff 0d 0a'))\n",
    "    time.sleep(1)\n",
    "    \n",
    "    # Rotate the motor backward for 1 second\n",
    "    ser.write(bytes.fromhex('41 54 90 07 e8 14 08 05 70 00 00 07 01 6a aa 0d 0a'))\n",
    "    time.sleep(1)\n",
    "    \n",
    "    # Stop the motor for 1 second\n",
    "    ser.write(bytes.fromhex('41 54 90 07 e8 14 08 05 70 00 00 07 00 7f ff 0d 0a'))\n",
    "    time.sleep(1)\n",
    "\n",
    "except Exception as e:\n",
    "    print(f\"An error occurred: {e}\")\n",
    "\n",
    "finally:\n",
    "    # Close the serial port\n",
    "    ser.close()\n",
    "\n"
   ]
  },
  {
   "cell_type": "markdown",
   "id": "0269a13f",
   "metadata": {},
   "source": [
    "# 读取数据"
   ]
  },
  {
   "cell_type": "code",
   "execution_count": 67,
   "id": "6400aea3",
   "metadata": {},
   "outputs": [
    {
     "name": "stdout",
     "output_type": "stream",
     "text": [
      "[b'OK\\r\\n', b'AT\\x10\\x00\\x0f\\xec\\x08\\x7f\\xfe\\x7f\\xa3\\x7f\\xff\\x012\\r\\n']\n",
      "[b'OK\\r\\n', b'AT\\x10\\x00\\x0f\\xec\\x08\\x7f\\xfe\\x7f\\xa3\\x7f\\xff\\x012\\r\\n']\n"
     ]
    }
   ],
   "source": [
    "\n",
    "ser = serial.Serial('COM8', 921600, timeout=0.1)\n",
    "try:\n",
    "    # Enter \"AT command mode\"\n",
    "    ser.write(bytes.fromhex('41 54 2b 41 54 0d 0a'))\n",
    "    # 进入运动模式\n",
    "    ser.write(bytes.fromhex('41 54 90 07 e8 0c 08 05 70 00 00 01 00 00 00 0d 0a'))\n",
    "    data = ser.readlines()\n",
    "    print(data)\n",
    "    # 单个参数读取0x7005 run mode\n",
    "    # ser.write(bytes.fromhex('41 54 88 07 e8 0c 08 05 70 00 00 00 00 00 00 0d 0a'))\n",
    "    # data = ser.readlines()\n",
    "    # 用十六进制打印data\n",
    "    print(data)\n",
    "        \n",
    "except Exception as e:\n",
    "    print(f\"An error occurred: {e}\")\n",
    "\n",
    "finally:\n",
    "    # Close the serial port\n",
    "    ser.close()\n",
    "        \n"
   ]
  },
  {
   "cell_type": "code",
   "execution_count": 68,
   "id": "f19d0689",
   "metadata": {},
   "outputs": [
    {
     "name": "stdout",
     "output_type": "stream",
     "text": [
      "0x41\n",
      "0x54\n",
      "0x10\n",
      "0x0\n",
      "0xf\n",
      "0xec\n",
      "0x8\n",
      "0x7f\n",
      "0xfe\n",
      "0x7f\n",
      "0xa3\n",
      "0x7f\n",
      "0xff\n",
      "0x1\n",
      "0x32\n",
      "0xd\n",
      "0xa\n"
     ]
    }
   ],
   "source": [
    "# 使用16进制打印data[1]\n",
    "for i in range(len(data[1])):\n",
    "    print(hex(data[1][i]))\n"
   ]
  },
  {
   "cell_type": "code",
   "execution_count": 62,
   "id": "b5e0bff6",
   "metadata": {},
   "outputs": [
    {
     "ename": "IndexError",
     "evalue": "list index out of range",
     "output_type": "error",
     "traceback": [
      "\u001b[1;31m---------------------------------------------------------------------------\u001b[0m",
      "\u001b[1;31mIndexError\u001b[0m                                Traceback (most recent call last)",
      "Cell \u001b[1;32mIn[62], line 1\u001b[0m\n\u001b[1;32m----> 1\u001b[0m \u001b[38;5;28mlen\u001b[39m(data[\u001b[38;5;241m1\u001b[39m])\n",
      "\u001b[1;31mIndexError\u001b[0m: list index out of range"
     ]
    }
   ],
   "source": [
    "len(data[1])"
   ]
  },
  {
   "cell_type": "code",
   "execution_count": 48,
   "id": "7ca78cbd-2b01-4272-baeb-0c4bb79a754c",
   "metadata": {},
   "outputs": [
    {
     "data": {
      "text/plain": [
       "b'AT\\x10\\x00\\x0f\\xec\\x08u\\xf1\\x7f\\xcc\\x7f\\xff\\x01\\x1e'"
      ]
     },
     "execution_count": 48,
     "metadata": {},
     "output_type": "execute_result"
    }
   ],
   "source": [
    "# 去掉末尾的换行符\n",
    "data1 = data[1][:-2]\n",
    "data1\n",
    "\n"
   ]
  },
  {
   "cell_type": "code",
   "execution_count": 49,
   "id": "28efcb2a",
   "metadata": {},
   "outputs": [
    {
     "data": {
      "text/plain": [
       "65"
      ]
     },
     "execution_count": 49,
     "metadata": {},
     "output_type": "execute_result"
    }
   ],
   "source": [
    "data1[0]"
   ]
  },
  {
   "cell_type": "code",
   "execution_count": 44,
   "id": "9f097e57",
   "metadata": {},
   "outputs": [
    {
     "ename": "TypeError",
     "evalue": "a bytes-like object is required, not 'list'",
     "output_type": "error",
     "traceback": [
      "\u001b[1;31m---------------------------------------------------------------------------\u001b[0m",
      "\u001b[1;31mTypeError\u001b[0m                                 Traceback (most recent call last)",
      "Cell \u001b[1;32mIn[44], line 5\u001b[0m\n\u001b[0;32m      2\u001b[0m command_code \u001b[38;5;241m=\u001b[39m data1[\u001b[38;5;241m0\u001b[39m]\n\u001b[0;32m      4\u001b[0m \u001b[38;5;66;03m# 解析参数1（2字节无符号整数）\u001b[39;00m\n\u001b[1;32m----> 5\u001b[0m param1 \u001b[38;5;241m=\u001b[39m struct\u001b[38;5;241m.\u001b[39munpack(\u001b[38;5;124m'\u001b[39m\u001b[38;5;124m>H\u001b[39m\u001b[38;5;124m'\u001b[39m, data[\u001b[38;5;241m1\u001b[39m:\u001b[38;5;241m3\u001b[39m])[\u001b[38;5;241m0\u001b[39m]\n\u001b[0;32m      7\u001b[0m \u001b[38;5;66;03m# 解析参数2（2字节有符号整数）\u001b[39;00m\n\u001b[0;32m      8\u001b[0m param2 \u001b[38;5;241m=\u001b[39m struct\u001b[38;5;241m.\u001b[39munpack(\u001b[38;5;124m'\u001b[39m\u001b[38;5;124m>h\u001b[39m\u001b[38;5;124m'\u001b[39m, data[\u001b[38;5;241m3\u001b[39m:\u001b[38;5;241m5\u001b[39m])[\u001b[38;5;241m0\u001b[39m]\n",
      "\u001b[1;31mTypeError\u001b[0m: a bytes-like object is required, not 'list'"
     ]
    }
   ],
   "source": [
    "# 解析命令码\n",
    "command_code = data1[0]\n",
    "\n",
    "# 解析参数1（2字节无符号整数）\n",
    "param1 = struct.unpack('>H', data[1:3])[0]\n",
    "\n",
    "# 解析参数2（2字节有符号整数）\n",
    "param2 = struct.unpack('>h', data[3:5])[0]\n",
    "\n",
    "# 解析参数3（2字节浮点数）\n",
    "param3 = struct.unpack('>f', data[5:7])[0]\n",
    "\n",
    "# 解析参数4（2字节无符号整数）\n",
    "param4 = struct.unpack('>H', data[7:9])[0]\n",
    "\n",
    "print(f\"Command Code: {command_code}\")\n",
    "print(f\"Parameter 1: {param1}\")\n",
    "print(f\"Parameter 2: {param2}\")\n",
    "print(f\"Parameter 3: {param3}\")\n",
    "print(f\"Parameter 4: {param4}\")"
   ]
  },
  {
   "cell_type": "code",
   "execution_count": null,
   "id": "4ed1f896",
   "metadata": {},
   "outputs": [],
   "source": []
  }
 ],
 "metadata": {
  "kernelspec": {
   "display_name": "Python 3 (ipykernel)",
   "language": "python",
   "name": "python3"
  },
  "language_info": {
   "codemirror_mode": {
    "name": "ipython",
    "version": 3
   },
   "file_extension": ".py",
   "mimetype": "text/x-python",
   "name": "python",
   "nbconvert_exporter": "python",
   "pygments_lexer": "ipython3",
   "version": "3.12.4"
  }
 },
 "nbformat": 4,
 "nbformat_minor": 5
}
